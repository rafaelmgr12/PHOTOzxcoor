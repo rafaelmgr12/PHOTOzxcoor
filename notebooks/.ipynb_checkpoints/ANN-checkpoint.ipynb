{
 "cells": [
  {
   "cell_type": "code",
   "execution_count": 1,
   "metadata": {},
   "outputs": [],
   "source": [
    "try:\n",
    "    import google.colab\n",
    "    IN_COLAB = True\n",
    "except:\n",
    "    IN_COLAB = False\n",
    "if IN_COLAB:\n",
    "    print(\"Baixando Funções que serão usadas nesse notebook\")\n",
    "    ! shred -u astroFunctions.py\n",
    "    ! wget https://raw.githubusercontent.com/zxcorr/zxcorr_DataAccess/main/DESzxcorr/pycode/astroFunctions.py -O astroFunctions.py\n",
    "    ! pip install esutil\n",
    "    ! pip install healpy\n",
    "    import astroFunctions as astro\n",
    "    from google.colab import drive\n",
    "    drive.mount('/content/drive')\n",
    "else:\n",
    "    import sys,os\n",
    "    home = os.getenv(\"HOME\")\n",
    "    sys.path.append(home+\"/DESzxcorr/pycode/\") # user here the path where we download the folder DESzxcoorr\n"
   ]
  },
  {
   "cell_type": "code",
   "execution_count": 2,
   "metadata": {},
   "outputs": [],
   "source": [
    "import numpy as np\n",
    "import pandas as pd\n",
    "import matplotlib.pyplot as plt\n",
    "import seaborn as sns\n",
    "from scipy import stats\n",
    "import healpy as hp\n",
    "import os\n",
    "import matplotlib\n",
    "from astropy.io import ascii \n",
    "from astropy.table import Table,QTable,  hstack, vstack\n",
    "import astropy.io.fits as fits\n",
    "import sys\n",
    "\n",
    "import tensorflow as tf\n",
    "%matplotlib inline"
   ]
  },
  {
   "cell_type": "code",
   "execution_count": 3,
   "metadata": {},
   "outputs": [
    {
     "name": "stdout",
     "output_type": "stream",
     "text": [
      "TensorFlow version :  2.1.0\n"
     ]
    }
   ],
   "source": [
    "print(\"TensorFlow version : \",tf.__version__)"
   ]
  },
  {
   "cell_type": "code",
   "execution_count": 4,
   "metadata": {},
   "outputs": [],
   "source": [
    "if IN_COLAB:\n",
    "    path1 = \"/content/drive/Shareddrives/Optical Data/DES Data/match-des-ps2\"\n",
    "    path2 = \"/content/drive/Shareddrives/Optical Data/DES Data/results/PSPixelFit_PS1_VIPERS_VVDS\"\n",
    "    path3 = \"/content/drive/Shareddrives/Optical Data/DES Data/64\"\n",
    "else:\n",
    "    path1 = home+\"/DESzxcorr/results/match-des-ps2\"\n",
    "    path2 = home+\"/DESzxcorr/results/des\"\n"
   ]
  },
  {
   "cell_type": "code",
   "execution_count": 5,
   "metadata": {},
   "outputs": [],
   "source": [
    "filename1 = os.listdir(path1)\n",
    "filename2 = os.listdir(path2)\n",
    "#filename3 = os.listdir(path3)"
   ]
  },
  {
   "cell_type": "code",
   "execution_count": 6,
   "metadata": {},
   "outputs": [],
   "source": [
    "l1 = []\n",
    "for i in range(len(filename1)): # if breaks, its the RAM so read less data.\n",
    "    path_dir = os.path.join(path1,filename1[i])\n",
    "    df = Table.read(path_dir).to_pandas()\n",
    "    l1.append(df)\n",
    "match = pd.concat(l1, axis=0, ignore_index=True)\n",
    "del df,l1\n",
    "l1 = []\n",
    "for i in range(len(filename2)): # if breaks, its the RAM so read less data.\n",
    "    path_dir = os.path.join(path2,filename2[i])\n",
    "    df = Table.read(path_dir).to_pandas()\n",
    "    l1.append(df)\n",
    "des = pd.concat(l1, axis=0, ignore_index=True)\n",
    "del df,l1\n",
    "\n",
    "#for i in range(len(filename3)): # if breaks, its the RAM so read less data.\n",
    "#    path_dir = os.path.join(path3,filename2[i])\n",
    "#    df = Table.read(path_dir).to_pandas()\n",
    "#    l1.append(df)\n",
    "#ps = pd.concat(l1, axis=0, ignore_index=True)\n",
    "#del df,l1"
   ]
  },
  {
   "cell_type": "code",
   "execution_count": 11,
   "metadata": {},
   "outputs": [
    {
     "data": {
      "text/plain": [
       "(37.002704, 37.00270644)"
      ]
     },
     "execution_count": 11,
     "metadata": {},
     "output_type": "execute_result"
    }
   ],
   "source": [
    "match[\"RA\"].iloc[1],match[\"raMean\"].iloc[1]"
   ]
  }
 ],
 "metadata": {
  "kernelspec": {
   "display_name": "Python 3",
   "language": "python",
   "name": "python3"
  },
  "language_info": {
   "codemirror_mode": {
    "name": "ipython",
    "version": 3
   },
   "file_extension": ".py",
   "mimetype": "text/x-python",
   "name": "python",
   "nbconvert_exporter": "python",
   "pygments_lexer": "ipython3",
   "version": "3.8.5"
  }
 },
 "nbformat": 4,
 "nbformat_minor": 4
}
